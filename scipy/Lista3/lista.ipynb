{
 "cells": [
  {
   "cell_type": "markdown",
   "metadata": {},
   "source": [
    "# 1"
   ]
  },
  {
   "cell_type": "code",
   "execution_count": null,
   "metadata": {},
   "outputs": [],
   "source": []
  },
  {
   "cell_type": "markdown",
   "metadata": {},
   "source": [
    "# 2"
   ]
  },
  {
   "cell_type": "code",
   "execution_count": null,
   "metadata": {},
   "outputs": [],
   "source": []
  },
  {
   "cell_type": "markdown",
   "metadata": {},
   "source": [
    "# 3 \n",
    "\n",
    "    Min f = 9x1 + 6x2 + 12x3\n",
    "    s.a      x1 + 2x2 +   x3 ≥ 4\n",
    "            2x1 +  x2 +   x3 ≥ 5\n",
    "            2x1 + 3x2 +  2x3 ≥ 6\n",
    "            x ≥ 0\n"
   ]
  },
  {
   "cell_type": "code",
   "execution_count": 28,
   "metadata": {},
   "outputs": [
    {
     "ename": "ValueError",
     "evalue": "Invalid input for linprog: b_ub must be a 1-D array; b_ub must not have more than one non-singleton dimension and the number of rows in A_ub must equal the number of values in b_ub",
     "output_type": "error",
     "traceback": [
      "\u001b[1;31m---------------------------------------------------------------------------\u001b[0m",
      "\u001b[1;31mValueError\u001b[0m                                Traceback (most recent call last)",
      "\u001b[1;32mc:\\Users\\aliss\\source\\repos\\ufsm\\elc931-otimizacao-sistemas\\scipy\\Lista3\\lista.ipynb Célula: 6\u001b[0m in \u001b[0;36m<cell line: 18>\u001b[1;34m()\u001b[0m\n\u001b[0;32m     <a href='vscode-notebook-cell:/c%3A/Users/aliss/source/repos/ufsm/elc931-otimizacao-sistemas/scipy/Lista3/lista.ipynb#ch0000006?line=14'>15</a>\u001b[0m x2_bounds \u001b[39m=\u001b[39m (\u001b[39m0\u001b[39m, \u001b[39mNone\u001b[39;00m)\n\u001b[0;32m     <a href='vscode-notebook-cell:/c%3A/Users/aliss/source/repos/ufsm/elc931-otimizacao-sistemas/scipy/Lista3/lista.ipynb#ch0000006?line=15'>16</a>\u001b[0m x3_bounds \u001b[39m=\u001b[39m (\u001b[39m0\u001b[39m, \u001b[39mNone\u001b[39;00m)\n\u001b[1;32m---> <a href='vscode-notebook-cell:/c%3A/Users/aliss/source/repos/ufsm/elc931-otimizacao-sistemas/scipy/Lista3/lista.ipynb#ch0000006?line=17'>18</a>\u001b[0m res \u001b[39m=\u001b[39m linprog(c, A_ub\u001b[39m=\u001b[39;49mA, b_ub\u001b[39m=\u001b[39;49mb, bounds\u001b[39m=\u001b[39;49m[x0_bounds, x1_bounds, x2_bounds, x3_bounds])\n\u001b[0;32m     <a href='vscode-notebook-cell:/c%3A/Users/aliss/source/repos/ufsm/elc931-otimizacao-sistemas/scipy/Lista3/lista.ipynb#ch0000006?line=18'>19</a>\u001b[0m display(res)\n",
      "File \u001b[1;32m~\\AppData\\Local\\Packages\\PythonSoftwareFoundation.Python.3.9_qbz5n2kfra8p0\\LocalCache\\local-packages\\Python39\\site-packages\\scipy\\optimize\\_linprog.py:607\u001b[0m, in \u001b[0;36mlinprog\u001b[1;34m(c, A_ub, b_ub, A_eq, b_eq, bounds, method, callback, options, x0)\u001b[0m\n\u001b[0;32m    604\u001b[0m     warn(warning_message, OptimizeWarning)\n\u001b[0;32m    606\u001b[0m lp \u001b[39m=\u001b[39m _LPProblem(c, A_ub, b_ub, A_eq, b_eq, bounds, x0)\n\u001b[1;32m--> 607\u001b[0m lp, solver_options \u001b[39m=\u001b[39m _parse_linprog(lp, options, meth)\n\u001b[0;32m    608\u001b[0m tol \u001b[39m=\u001b[39m solver_options\u001b[39m.\u001b[39mget(\u001b[39m'\u001b[39m\u001b[39mtol\u001b[39m\u001b[39m'\u001b[39m, \u001b[39m1e-9\u001b[39m)\n\u001b[0;32m    610\u001b[0m \u001b[39m# Give unmodified problem to HiGHS\u001b[39;00m\n",
      "File \u001b[1;32m~\\AppData\\Local\\Packages\\PythonSoftwareFoundation.Python.3.9_qbz5n2kfra8p0\\LocalCache\\local-packages\\Python39\\site-packages\\scipy\\optimize\\_linprog_util.py:1003\u001b[0m, in \u001b[0;36m_parse_linprog\u001b[1;34m(lp, options, meth)\u001b[0m\n\u001b[0;32m   1000\u001b[0m solver_options, A_ub, A_eq \u001b[39m=\u001b[39m _check_sparse_inputs(solver_options, meth,\n\u001b[0;32m   1001\u001b[0m                                                   lp\u001b[39m.\u001b[39mA_ub, lp\u001b[39m.\u001b[39mA_eq)\n\u001b[0;32m   1002\u001b[0m \u001b[39m# Convert lists to numpy arrays, etc...\u001b[39;00m\n\u001b[1;32m-> 1003\u001b[0m lp \u001b[39m=\u001b[39m _clean_inputs(lp\u001b[39m.\u001b[39;49m_replace(A_ub\u001b[39m=\u001b[39;49mA_ub, A_eq\u001b[39m=\u001b[39;49mA_eq))\n\u001b[0;32m   1004\u001b[0m \u001b[39mreturn\u001b[39;00m lp, solver_options\n",
      "File \u001b[1;32m~\\AppData\\Local\\Packages\\PythonSoftwareFoundation.Python.3.9_qbz5n2kfra8p0\\LocalCache\\local-packages\\Python39\\site-packages\\scipy\\optimize\\_linprog_util.py:316\u001b[0m, in \u001b[0;36m_clean_inputs\u001b[1;34m(lp)\u001b[0m\n\u001b[0;32m    314\u001b[0m \u001b[39melse\u001b[39;00m:\n\u001b[0;32m    315\u001b[0m     \u001b[39mif\u001b[39;00m b_ub\u001b[39m.\u001b[39mshape \u001b[39m!=\u001b[39m (n_ub,):\n\u001b[1;32m--> 316\u001b[0m         \u001b[39mraise\u001b[39;00m \u001b[39mValueError\u001b[39;00m(\n\u001b[0;32m    317\u001b[0m             \u001b[39m\"\u001b[39m\u001b[39mInvalid input for linprog: b_ub must be a 1-D array; b_ub \u001b[39m\u001b[39m\"\u001b[39m\n\u001b[0;32m    318\u001b[0m             \u001b[39m\"\u001b[39m\u001b[39mmust not have more than one non-singleton dimension and \u001b[39m\u001b[39m\"\u001b[39m\n\u001b[0;32m    319\u001b[0m             \u001b[39m\"\u001b[39m\u001b[39mthe number of rows in A_ub must equal the number of values \u001b[39m\u001b[39m\"\u001b[39m\n\u001b[0;32m    320\u001b[0m             \u001b[39m\"\u001b[39m\u001b[39min b_ub\u001b[39m\u001b[39m\"\u001b[39m)\n\u001b[0;32m    321\u001b[0m     \u001b[39mif\u001b[39;00m \u001b[39mnot\u001b[39;00m(np\u001b[39m.\u001b[39misfinite(b_ub)\u001b[39m.\u001b[39mall()):\n\u001b[0;32m    322\u001b[0m         \u001b[39mraise\u001b[39;00m \u001b[39mValueError\u001b[39;00m(\n\u001b[0;32m    323\u001b[0m             \u001b[39m\"\u001b[39m\u001b[39mInvalid input for linprog: b_ub must not contain values \u001b[39m\u001b[39m\"\u001b[39m\n\u001b[0;32m    324\u001b[0m             \u001b[39m\"\u001b[39m\u001b[39minf, nan, or None\u001b[39m\u001b[39m\"\u001b[39m)\n",
      "\u001b[1;31mValueError\u001b[0m: Invalid input for linprog: b_ub must be a 1-D array; b_ub must not have more than one non-singleton dimension and the number of rows in A_ub must equal the number of values in b_ub"
     ]
    }
   ],
   "source": [
    "from scipy.optimize import linprog\n",
    "# função objetivo\n",
    "c = [4, 3, 3]\n",
    "# restrições\n",
    "A = [\n",
    "    [1, 2, 0],\n",
    "    [3, 1, 1],\n",
    "    [0, 0, 4],\n",
    "    [1, 0, 0],\n",
    "]\n",
    "\n",
    "b = [2, 4, 1, 1]\n",
    "# limites inferior e superior de cada variável\n",
    "x0_bounds = (0, None)\n",
    "x1_bounds = (0, None)\n",
    "x2_bounds = (0, None)\n",
    "x3_bounds = (0, None)\n",
    "\n",
    "res = linprog(c, A_ub=A, b_ub=b, bounds=[x0_bounds, x1_bounds, x2_bounds, x3_bounds])\n",
    "display(res)\n"
   ]
  }
 ],
 "metadata": {
  "kernelspec": {
   "display_name": "Python 3.9.13 64-bit (windows store)",
   "language": "python",
   "name": "python3"
  },
  "language_info": {
   "codemirror_mode": {
    "name": "ipython",
    "version": 3
   },
   "file_extension": ".py",
   "mimetype": "text/x-python",
   "name": "python",
   "nbconvert_exporter": "python",
   "pygments_lexer": "ipython3",
   "version": "3.9.13"
  },
  "orig_nbformat": 4,
  "vscode": {
   "interpreter": {
    "hash": "d4ecc00314b053340c011f30feae2cb0599056a19fa729c140ca6ecfe444bda2"
   }
  }
 },
 "nbformat": 4,
 "nbformat_minor": 2
}
