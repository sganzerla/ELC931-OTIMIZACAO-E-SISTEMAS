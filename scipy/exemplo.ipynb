{
 "cells": [
  {
   "cell_type": "markdown",
   "metadata": {},
   "source": [
    "https://docs.scipy.org/doc/scipy/reference/generated/scipy.optimize.linprog.html#scipy.optimize.linprog\n",
    "\n",
    "    min -x0 + 4x1\n",
    "    sa -3x0 +  x1 <= 6\n",
    "        -x0 - 2x1 >=-4\n",
    "            x1 >=-3\n",
    "\n",
    "O problema não está apresentado na forma padrão. A segunda restrição tem valor negativo no `b`, devendo-se multiplicar toda a equação por `-1` e invertendo o lado da inequação `x0 + 2x1 <= 4`.\n",
    "\n",
    "A última restrição está limitando apenas o `x1`, sendo `x0` livre."
   ]
  },
  {
   "cell_type": "code",
   "execution_count": 1,
   "metadata": {},
   "outputs": [
    {
     "data": {
      "text/plain": [
       "     con: array([], dtype=float64)\n",
       "     fun: -21.99999984082497\n",
       " message: 'Optimization terminated successfully.'\n",
       "     nit: 6\n",
       "   slack: array([3.89999997e+01, 8.46872172e-08])\n",
       "  status: 0\n",
       " success: True\n",
       "       x: array([ 9.99999989, -2.99999999])"
      ]
     },
     "metadata": {},
     "output_type": "display_data"
    },
    {
     "name": "stdout",
     "output_type": "stream",
     "text": [
      "----------------------------------------------------------------\n",
      "     con: array([], dtype=float64)\n",
      "     fun: -22.0\n",
      " message: 'Optimization terminated successfully.'\n",
      "     nit: 1\n",
      "   slack: array([39.,  0.])\n",
      "  status: 0\n",
      " success: True\n",
      "       x: array([10., -3.])\n"
     ]
    }
   ],
   "source": [
    "# !pip install scipy\n",
    "from scipy.optimize import linprog\n",
    "c = [-1, 4]\n",
    "A = [[-3, 1], [1, 2]]\n",
    "b = [6, 4]\n",
    "x0_bounds = (None, None)\n",
    "x1_bounds = (-3, None)\n",
    "res = linprog(c, A_ub=A, b_ub=b, bounds=[x0_bounds, x1_bounds])\n",
    "display(res)\n",
    "\n",
    "print(\"----------------------------------------------------------------\")\n",
    "res = linprog(c, A_ub=A, b_ub=b, bounds=[x0_bounds, x1_bounds], method='revised simplex')\n",
    "print(res)"
   ]
  }
 ],
 "metadata": {
  "kernelspec": {
   "display_name": "Python 3.9.13 64-bit (windows store)",
   "language": "python",
   "name": "python3"
  },
  "language_info": {
   "codemirror_mode": {
    "name": "ipython",
    "version": 3
   },
   "file_extension": ".py",
   "mimetype": "text/x-python",
   "name": "python",
   "nbconvert_exporter": "python",
   "pygments_lexer": "ipython3",
   "version": "3.9.13"
  },
  "orig_nbformat": 4,
  "vscode": {
   "interpreter": {
    "hash": "d4ecc00314b053340c011f30feae2cb0599056a19fa729c140ca6ecfe444bda2"
   }
  }
 },
 "nbformat": 4,
 "nbformat_minor": 2
}
