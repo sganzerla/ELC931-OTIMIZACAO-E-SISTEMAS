{
 "cells": [
  {
   "cell_type": "markdown",
   "metadata": {},
   "source": []
  },
  {
   "cell_type": "code",
   "execution_count": 235,
   "metadata": {},
   "outputs": [
    {
     "name": "stdout",
     "output_type": "stream",
     "text": [
      "Matriz original:\n",
      "      0   1   2  3  4  5  6    7\n",
      "Z  -10 -20 -30  0  0  0  0    0\n",
      "R1   2   2  -4  1  0  0  0  300\n",
      "R2   0   4  -3  0  1  0  0  200\n",
      "R3   1   0   0  0  0  1  0   20\n",
      "R4   4   0  -3  0  0  0  1   50 \n",
      "\n",
      "Índice da coluna  2 têm o menor valor em Z :  -30 \n",
      "\n",
      "Teste mínima razão\n",
      "Z : 0 / -30 = -0.0\n",
      "R1 : 300 / -4 = -75.0\n",
      "R2 : 200 / -3 = -66.66666666666667\n",
      "R3 : 20 / 0 = inf\n",
      "R4 : 50 / -3 = -16.666666666666668\n",
      "Todas as linhas têm soluções infactíveis no teste da mínima razão. Tente com outra coluna ou essa matriz têm soluções ilimitadas.\n"
     ]
    }
   ],
   "source": [
    "import pandas as pd\n",
    "import math\n",
    "import numpy as np\n",
    "# https://www.youtube.com/watch?v=7qOdbo-xPaA&t=544s\n",
    "\n",
    "\n",
    "def criar_indices(df: pd.DataFrame) -> pd.DataFrame:\n",
    "    return df.set_index(np.arange(len(Z)))\n",
    "\n",
    "\n",
    "def transpor_matriz(df: pd.DataFrame) -> pd.DataFrame:\n",
    "    return df.T\n",
    "\n",
    "\n",
    "def obter_coluna_pivo(df: pd.DataFrame, nome_linha_fo: str) -> int:\n",
    "    # indice da coluna de menor valor em cada linha\n",
    "    index_min_por_linha: pd.Series = df.idxmin(axis=1, skipna=True)\n",
    "    # indice da coluna candidata\n",
    "    index_col = index_min_por_linha[nome_linha_fo]\n",
    "    valor_col_candidata = df[index_col][nome_linha_fo]\n",
    "    print(\"Índice da coluna \", index_col,\n",
    "          \"têm o menor valor em \" + nome_linha_fo + \" : \", valor_col_candidata, \"\\n\")\n",
    "\n",
    "    if(valor_col_candidata > 0):\n",
    "        return -1\n",
    "    else:\n",
    "        return index_col\n",
    "\n",
    "\n",
    "def obter_linha_pivo(df: pd.DataFrame, index_col: int) -> pd.DataFrame:\n",
    "    nr_lin, nr_col = df.shape\n",
    "    index_lin = df.index\n",
    "    col_pivo = df[index_col]\n",
    "    col_b = df[nr_col - 1]\n",
    "    res = col_b / col_pivo\n",
    "    i = 0\n",
    "    print(\"Teste mínima razão\")\n",
    "    # linha menos significativa no teste menor razão\n",
    "    while i < nr_lin:\n",
    "        print(index_lin[i], \":\", col_b[i], \"/\", col_pivo[i], \"=\", res[i])\n",
    "        if(i == 0):\n",
    "            res[i] = None\n",
    "        if(math.isinf(res[i]) or res[i] <= 0.0):\n",
    "            res[i] = None\n",
    "        i += 1\n",
    "\n",
    "    lin_pivo = res.idxmin(axis=0, skipna=True)\n",
    "    if (str(lin_pivo) != 'nan'):\n",
    "        print(\"Indíce da linha pivô escolhido: \", lin_pivo)\n",
    "    else:\n",
    "        lin_pivo = -1\n",
    "        return lin_pivo\n",
    "\n",
    "\n",
    "Z = [-10, -20, -30, 0, 0,  0, 0, 0]\n",
    "R1 = [2,  2,  -4,  1,  0,  0,  0, 300]\n",
    "R2 = [0,  4,  -3,  0,  1,  0,  0, 200]\n",
    "R3 = [1,  0,  0,  0,  0,  1,  0,  20]\n",
    "R4 = [4,  0,  -3,  0,  0,  0,  1,  50]\n",
    "\n",
    "ppl = pd.DataFrame(\n",
    "    {'Z': Z, 'R1': R1, 'R2': R2, 'R3': R3, 'R4': R4})\n",
    "\n",
    "ppl = criar_indices(ppl)\n",
    "ppl = transpor_matriz(ppl)\n",
    "print(\"Matriz original:\\n\", ppl, \"\\n\")\n",
    "\n",
    "col_candidata = obter_coluna_pivo(df=ppl, nome_linha_fo='Z')\n",
    "\n",
    "if(col_candidata <= 0):\n",
    "    print(\"Solução não pode ser melhorada.\")\n",
    "    exit\n",
    "\n",
    "linha_candidata = obter_linha_pivo(df=ppl, index_col=col_candidata)\n",
    "if(linha_candidata == -1):\n",
    "    print(\"Todas as linhas têm soluções infactíveis no teste da mínima razão. Tente com outra coluna ou essa matriz têm soluções ilimitadas.\")\n"
   ]
  }
 ],
 "metadata": {
  "kernelspec": {
   "display_name": "Python 3.9.13 64-bit (windows store)",
   "language": "python",
   "name": "python3"
  },
  "language_info": {
   "codemirror_mode": {
    "name": "ipython",
    "version": 3
   },
   "file_extension": ".py",
   "mimetype": "text/x-python",
   "name": "python",
   "nbconvert_exporter": "python",
   "pygments_lexer": "ipython3",
   "version": "3.9.13"
  },
  "orig_nbformat": 4,
  "vscode": {
   "interpreter": {
    "hash": "d4ecc00314b053340c011f30feae2cb0599056a19fa729c140ca6ecfe444bda2"
   }
  }
 },
 "nbformat": 4,
 "nbformat_minor": 2
}
